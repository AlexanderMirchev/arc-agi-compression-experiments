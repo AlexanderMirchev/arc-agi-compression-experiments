{
 "cells": [
  {
   "cell_type": "code",
   "execution_count": null,
   "metadata": {},
   "outputs": [
    {
     "name": "stdout",
     "output_type": "stream",
     "text": [
      "750 39 b'\\x1f\\x8b\\x08\\x00\\xdd;\\xc7g\\x02\\xff\\xebf\\xf8\\xdf\\x8d\\x84\\x18P\\xb9\\xa3h\\x14\\rN\\xc4\\xc0\\xc0@\\x86.\\x00T\\xd1\\xff\\xcf\\xee\\x02\\x00\\x00'\n"
     ]
    }
   ],
   "source": [
    "import numpy as np\n",
    "import gzip\n",
    "from PIL import Image\n",
    "image_path = '../../data/train_data_images/new0.png'\n",
    "with Image.open(image_path) as img:\n",
    "    # Convert image to numpy array\n",
    "    img_array = np.array(img)\n",
    "\n",
    "# Serialize numpy array to bytes\n",
    "img_bytes = img_array.tobytes()\n",
    "\n",
    "# Compress using gzip\n",
    "compressed_data = gzip.compress(img_bytes, compresslevel=9)\n",
    "\n",
    "# Calculate compression metrics\n",
    "original_size = len(img_bytes)\n",
    "compressed_size = len(compressed_data)\n",
    "compression_ratio = 1 - (compressed_size / original_size)\n",
    "\n",
    "print(original_size, compressed_size, compressed_data)"
   ]
  }
 ],
 "metadata": {
  "kernelspec": {
   "display_name": ".venv",
   "language": "python",
   "name": "python3"
  },
  "language_info": {
   "codemirror_mode": {
    "name": "ipython",
    "version": 3
   },
   "file_extension": ".py",
   "mimetype": "text/x-python",
   "name": "python",
   "nbconvert_exporter": "python",
   "pygments_lexer": "ipython3",
   "version": "3.12.2"
  }
 },
 "nbformat": 4,
 "nbformat_minor": 2
}
