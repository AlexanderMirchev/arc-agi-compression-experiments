{
 "cells": [
  {
   "cell_type": "code",
   "execution_count": 15,
   "metadata": {},
   "outputs": [],
   "source": [
    "import torch\n",
    "import matplotlib.pyplot as plt\n",
    "import numpy as np\n",
    "\n",
    "from numpy.linalg import norm\n",
    "from sklearn.metrics.pairwise import cosine_similarity\n",
    "\n",
    "from models.pipeline import Pipeline\n",
    "from utils.view import draw_grid\n",
    "\n",
    "device = torch.device(\"cuda\" if torch.cuda.is_available() else \"cpu\")\n",
    "\n",
    "def visual_analogy_single_task(pipeline: Pipeline, train_pairs, test_pair, comp='average'):\n",
    "    pipeline.model_eval()\n",
    "    with torch.no_grad():\n",
    "        Z_few, Z_few_i = [], []\n",
    "\n",
    "        for input, output in train_pairs:\n",
    "            input = pipeline.preprocess_and_compress(input)\n",
    "            output = pipeline.preprocess_and_compress(output)\n",
    "\n",
    "            z_inp, _ = pipeline.encode(input.unsqueeze(0).to(device))\n",
    "            z_out, _ = pipeline.encode(output.unsqueeze(0).to(device))\n",
    "            z_diff = z_out.cpu().numpy().squeeze() - z_inp.cpu().numpy().squeeze()\n",
    "            Z_few.append(z_diff)\n",
    "            Z_few_i.append(z_inp.cpu().numpy().squeeze())\n",
    "\n",
    "        input_q, output_q = test_pair\n",
    "        input_q = pipeline.preprocess_and_compress(input_q)\n",
    "        z_query_inp, _ = pipeline.encode(input_q.unsqueeze(0).to(device))\n",
    "        Z_sol = z_query_inp.cpu().numpy().squeeze()\n",
    "        Z_sol_o = output_q\n",
    "\n",
    "        # Compute average rule vector\n",
    "        z_avg = np.mean(Z_few, axis=0)\n",
    "\n",
    "        # Find most similar support input to query input (Euclidean)\n",
    "        Z_euc = [np.linalg.norm(z_i - Z_sol) for z_i in Z_few_i]\n",
    "        sim_idx = np.argmin(Z_euc)\n",
    "        z_sim = Z_few[sim_idx]\n",
    "\n",
    "        # Consistency among support diffs\n",
    "        Z_cons = cosine_similarity(Z_few)\n",
    "\n",
    "        # Consistency between average and similarity vector\n",
    "        Z_rule = np.dot(z_avg, z_sim) / (norm(z_avg) * norm(z_sim))\n",
    "\n",
    "        # Choose comparison method\n",
    "        z_comp = z_avg if comp == 'average' else z_sim\n",
    "\n",
    "        # Apply the transformation to the query input\n",
    "        z_out = Z_sol + z_comp\n",
    "        \n",
    "        out = pipeline.decode(torch.tensor(z_out, dtype=torch.float32).unsqueeze(0).to(device))\n",
    "        Z_sol_p = pipeline.decompress_and_postprocess(out, Z_sol_o)\n",
    "\n",
    "    return Z_sol_o, Z_sol_p, Z_cons, Z_rule"
   ]
  },
  {
   "cell_type": "code",
   "execution_count": 17,
   "metadata": {},
   "outputs": [],
   "source": [
    "import random\n",
    "\n",
    "from models.convolutional_vae_v2 import ConvolutionalVAEV2, preprocess_grid, postprocess_grid\n",
    "\n",
    "SEED = 42\n",
    "torch.manual_seed(SEED)\n",
    "np.random.seed(SEED)\n",
    "random.seed(SEED)\n",
    "\n",
    "device = torch.device(\"cuda\" if torch.cuda.is_available() else \"cpu\")\n",
    "model = ConvolutionalVAEV2(\n",
    "    in_channels=10, \n",
    "    starting_filters=64, \n",
    "    latent_dim=64,\n",
    "    feature_dim=[8, 8]\n",
    ").to(device)\n",
    "\n",
    "checkpoint = torch.load('../../checkpoints/conv_vaev2_batchnorm.pt', map_location=device)\n",
    "model.load_state_dict(checkpoint['model_state_dict'])\n",
    "\n",
    "pipeline = Pipeline(\n",
    "    model=model,\n",
    "    preprocess_fn=preprocess_grid,\n",
    "    postprocess_fn=postprocess_grid,\n",
    ")"
   ]
  },
  {
   "cell_type": "code",
   "execution_count": 18,
   "metadata": {},
   "outputs": [],
   "source": [
    "from utils.load_data import get_grids\n",
    "\n",
    "data, _  = get_grids(filepath=\"../../data/evaluation\", split=False)"
   ]
  },
  {
   "cell_type": "code",
   "execution_count": 20,
   "metadata": {},
   "outputs": [
    {
     "name": "stderr",
     "output_type": "stream",
     "text": [
      "/var/folders/x_/1hf63s3j2m7bc3xtjhjglm780000gn/T/ipykernel_61834/2708905769.py:46: RuntimeWarning: invalid value encountered in scalar divide\n",
      "  Z_rule = np.dot(z_avg, z_sim) / (norm(z_avg) * norm(z_sim))\n"
     ]
    },
    {
     "data": {
      "image/png": "[encoded data removed]",
      "text/plain": [
       "<Figure size 1200x600 with 2 Axes>"
      ]
     },
     "metadata": {},
     "output_type": "display_data"
    },
    {
     "data": {
      "image/png": "[encoded data removed]",
      "text/plain": [
       "<Figure size 1200x600 with 2 Axes>"
      ]
     },
     "metadata": {},
     "output_type": "display_data"
    }
   ],
   "source": [
    "solved_puzzles = []\n",
    "for puzzle_id, task in data.items():\n",
    "    Z_sol_o, Z_sol_p, Z_cons, Z_rule = visual_analogy_single_task(\n",
    "        pipeline=pipeline,\n",
    "        train_pairs=task['train'],\n",
    "        test_pair=task['test'][0],\n",
    "        comp='cosine'\n",
    "    )\n",
    "    if np.array_equal(Z_sol_o, Z_sol_p):\n",
    "        solved_puzzles.append(puzzle_id)\n",
    "\n",
    "        fig, axes = plt.subplots(1, 2, figsize=(12, 6))\n",
    "        draw_grid(axes[0], Z_sol_o, f\"Puzzle {puzzle_id} Original\")\n",
    "        draw_grid(axes[1], Z_sol_p, f\"Puzzle {puzzle_id} Predicted\")\n",
    "        \n",
    "     "
   ]
  },
  {
   "cell_type": "code",
   "execution_count": 6,
   "metadata": {},
   "outputs": [
    {
     "name": "stdout",
     "output_type": "stream",
     "text": [
      "['e872b94a']\n"
     ]
    }
   ],
   "source": [
    "print(solved_puzzles)"
   ]
  }
 ],
 "metadata": {
  "kernelspec": {
   "display_name": ".venv",
   "language": "python",
   "name": "python3"
  },
  "language_info": {
   "codemirror_mode": {
    "name": "ipython",
    "version": 3
   },
   "file_extension": ".py",
   "mimetype": "text/x-python",
   "name": "python",
   "nbconvert_exporter": "python",
   "pygments_lexer": "ipython3",
   "version": "3.12.2"
  }
 },
 "nbformat": 4,
 "nbformat_minor": 2
}
